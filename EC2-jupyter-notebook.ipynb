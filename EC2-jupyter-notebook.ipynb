{
 "cells": [
  {
   "cell_type": "markdown",
   "metadata": {},
   "source": [
    "# Jupyter Notebook on EC2 in simple steps\n",
    "\n",
    "----\n",
    "\n",
    "Installing Jupyter Notebook on EC2 in a few steps\n",
    "\n",
    "**[Note]** Create an AWS account, and access the **AWS Management Console**.\n",
    "\n",
    "<img src='images/aws_management_console.png' width=\"600\"/>"
   ]
  },
  {
   "cell_type": "markdown",
   "metadata": {},
   "source": [
    "---"
   ]
  },
  {
   "cell_type": "markdown",
   "metadata": {},
   "source": [
    "## EC2 service\n",
    "\n",
    "Access **EC2** and click on **Launch instance** as follows.\n",
    "\n",
    "<img src='images/launch_instance_ec2.png' width=\"400\"/>\n",
    "\n",
    "Select Ubuntu server: \n",
    "- **Type**: t2.micro\n",
    "- **(Next) Configure Instance details**: just leave it be\n",
    "\n",
    "<img src='images/ubuntu_server.png' width=\"800\"/>\n",
    "\n",
    "- **(Next) Add Storage**: \n",
    "> \"Free tier eligible customers can get up to 30 GB of EBS General Purpose (SSD)\"\n",
    "\n",
    "<img src='images/storage.png' width=\"800\"/>\n",
    "\n",
    "- **(Next) Add Tags**: Just leave it be\n",
    "\n",
    "- **(Next) Configure Security Group**: Just set groups as described in the next picture.\n",
    "    - It's important to set the port *8888* for the Jupyter Notebook.\n",
    "    - You could also define it to be accessed via VPN.\n",
    "\n",
    "<img src='images/security_groups.png' width=\"800\"/>\n",
    "\n",
    "- **Review and launch**:\n",
    "    - After reviewing the instance you have to create a key-pair to access your instance.\n",
    "    - Just give it a name and **launch instances**.\n",
    "    - You need to download the key-pair as *pem* file.\n",
    "    \n",
    "<img src='images/key_pair.png' width=\"600\"/>\n",
    "\n",
    "- **Go to instances**: \n",
    "    - The instance should be running...\n",
    " \n",
    "<img src='images/instance_running.png' width=\"600\"/>\n",
    "\n",
    "---"
   ]
  },
  {
   "cell_type": "markdown",
   "metadata": {},
   "source": [
    "## Accessing Instance\n",
    "\n",
    "### On Windows\n",
    "\n",
    "You should use putty to access your Instance, but you have to convert your private key into a **PuTTYgen**.\n",
    "\n",
    "Just access AWS doc to convert it, [Convert your private key using PuTTYgen](https://docs.aws.amazon.com/AWSEC2/latest/UserGuide/putty.html). It takes a few steps.\n",
    "\n",
    "- After converting the private key, you're able to connect to your instance. However, you have to follow AWS doc to do it, [Connecting to your Linux instance](https://docs.aws.amazon.com/AWSEC2/latest/UserGuide/putty.html).\n",
    "\n",
    "<img src='images/ssh_conn.png' width=\"600\"/>\n",
    "\n",
    "\n",
    "### On Linux\n",
    "\n",
    "- Just set permissions on key pair: \n",
    "```bash\n",
    "$ chmod 400 key_pair.pem\n",
    "```\n",
    "\n",
    "\n",
    "- Access instance via SSH (type *yes* to connect!)\n",
    "```bash\n",
    "$ ssh -i \"key_pair.pem\" ubuntu@ec2-your-instance-ipv4-dns.compute.amazonaws.com\n",
    "```\n",
    "\n",
    "**[Note]** Copy the instance's **Public IPv4 DNS** from Instance's information.\n",
    "\n",
    "---"
   ]
  },
  {
   "cell_type": "markdown",
   "metadata": {},
   "source": [
    "## Installing Jupyter Notebook / Lab\n",
    "\n",
    "Soon ;) "
   ]
  }
 ],
 "metadata": {
  "kernelspec": {
   "display_name": "conda_python3",
   "language": "python",
   "name": "conda_python3"
  },
  "language_info": {
   "codemirror_mode": {
    "name": "ipython",
    "version": 3
   },
   "file_extension": ".py",
   "mimetype": "text/x-python",
   "name": "python",
   "nbconvert_exporter": "python",
   "pygments_lexer": "ipython3",
   "version": "3.6.10"
  }
 },
 "nbformat": 4,
 "nbformat_minor": 4
}
